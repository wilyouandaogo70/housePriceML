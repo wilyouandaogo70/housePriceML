{
  "nbformat": 4,
  "nbformat_minor": 0,
  "metadata": {
    "colab": {
      "provenance": [],
      "mount_file_id": "1OV-a2f2h__1hS1Bnq1hsyoZCu7u3rXjk",
      "authorship_tag": "ABX9TyNmYuWVbjWeWUfycBes0ghX",
      "include_colab_link": true
    },
    "kernelspec": {
      "name": "python3",
      "display_name": "Python 3"
    },
    "language_info": {
      "name": "python"
    }
  },
  "cells": [
    {
      "cell_type": "markdown",
      "metadata": {
        "id": "view-in-github",
        "colab_type": "text"
      },
      "source": [
        "<a href=\"https://colab.research.google.com/github/wilyouandaogo70/housePriceML/blob/main/HPMLTest.ipynb\" target=\"_parent\"><img src=\"https://colab.research.google.com/assets/colab-badge.svg\" alt=\"Open In Colab\"/></a>"
      ]
    },
    {
      "cell_type": "code",
      "execution_count": null,
      "metadata": {
        "id": "JqDM8VmBBO-4"
      },
      "outputs": [],
      "source": [
        "import numpy as np\n",
        "import pickle"
      ]
    },
    {
      "cell_type": "code",
      "source": [
        "model = pickle.load(open('/content/drive/MyDrive/Project_PA_2024/House_Price_Prediction/model.pkl', 'rb'))"
      ],
      "metadata": {
        "id": "3QdmJJYBC-QY"
      },
      "execution_count": null,
      "outputs": []
    },
    {
      "cell_type": "code",
      "source": [
        "test_x = np.zeros((1, 4))\n",
        "test_x"
      ],
      "metadata": {
        "colab": {
          "base_uri": "https://localhost:8080/"
        },
        "id": "V1QcaUMHDWKY",
        "outputId": "c1f9fbb0-eacc-4976-f63c-15e5a89b6275"
      },
      "execution_count": null,
      "outputs": [
        {
          "output_type": "execute_result",
          "data": {
            "text/plain": [
              "array([[0., 0., 0., 0.]])"
            ]
          },
          "metadata": {},
          "execution_count": 3
        }
      ]
    },
    {
      "cell_type": "code",
      "source": [
        "test_x[0, 0] = 1180         # sqft_living   -- int\n",
        "test_x[0, 1] = 3            # bedrooms      -- int\n",
        "test_x[0, 2] = 1.0          # bathrooms     -- float\n",
        "test_x[0, 3] = 1.0           # floors        -- Float"
      ],
      "metadata": {
        "id": "NJbQIU10DWHY"
      },
      "execution_count": null,
      "outputs": []
    },
    {
      "cell_type": "code",
      "source": [
        "prediction = model.predict(test_x)\n",
        "print(f'The model {model} predicts a price for a house of ${round(float(prediction[0]), 2)}')"
      ],
      "metadata": {
        "colab": {
          "base_uri": "https://localhost:8080/"
        },
        "id": "VqRmxNEhDWFa",
        "outputId": "7e4225ec-92be-48fa-9efb-e8d0e493780c"
      },
      "execution_count": null,
      "outputs": [
        {
          "output_type": "stream",
          "name": "stdout",
          "text": [
            "The model RandomForestRegressor() predicts a price for a house of $275046.93\n"
          ]
        }
      ]
    },
    {
      "cell_type": "code",
      "source": [],
      "metadata": {
        "id": "K3SHtrpEDV6D"
      },
      "execution_count": null,
      "outputs": []
    }
  ]
}